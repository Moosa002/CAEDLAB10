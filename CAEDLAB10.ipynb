{
 "cells": [
  {
   "cell_type": "code",
   "execution_count": null,
   "id": "ea93fb98",
   "metadata": {},
   "outputs": [],
   "source": [
    "#task 1 \n",
    "def enter_rad():\n",
    "    x = float(input(\"Enter the radius: \"))\n",
    "    return x\n",
    "def cirArea():\n",
    "    radius = enter_rad()\n",
    "    area = 3.14*radius\n",
    "    return area\n",
    "#main \n",
    "print(cirArea())\n",
    "    \n",
    "    \n",
    "    "
   ]
  },
  {
   "cell_type": "code",
   "execution_count": null,
   "id": "66dd6fcb",
   "metadata": {},
   "outputs": [],
   "source": [
    "#task 2 \n",
    "def courseGrade(x):\n",
    "    if x > 90:\n",
    "        return 'A'\n",
    "    elif x<90 and x>75:\n",
    "        return 'B'\n",
    "    elif x<75 and x>60:\n",
    "        return 'C'\n",
    "    elif x<60 and x>45:\n",
    "        return 'D'\n",
    "    elif x<45:\n",
    "        return 'F'\n",
    "#mian \n",
    "print(courseGrade(80))"
   ]
  },
  {
   "cell_type": "code",
   "execution_count": 5,
   "id": "8ab4fca9",
   "metadata": {},
   "outputs": [
    {
     "name": "stdout",
     "output_type": "stream",
     "text": [
      "1 is he smallest number\n",
      "0.1 is he smallest number\n",
      "2 is he smallest number\n",
      "9 is he smallest number\n"
     ]
    }
   ],
   "source": [
    "#task 3\n",
    "def mini(a=1,b=2,c=3):\n",
    "    if a>b and a>c:\n",
    "        if b>c:\n",
    "            print(str(c)+' is he smallest number')\n",
    "        else:\n",
    "            print(str(b)+' is he smallest number')\n",
    "    elif b>a and b>c:\n",
    "        if a>c:\n",
    "            print(str(c)+' is he smallest number')\n",
    "        else:\n",
    "            print(str(a)+' is he smallest number')    \n",
    "        \n",
    "    elif c>a and c>b:\n",
    "        if b>a:\n",
    "            print(str(a)+' is he smallest number')\n",
    "        else:\n",
    "            print(str(b)+' is he smallest number')\n",
    "mini()\n",
    "mini(0.1)\n",
    "mini(a=3,b=5,c=2)\n",
    "mini(9,13,15)"
   ]
  },
  {
   "cell_type": "code",
   "execution_count": 7,
   "id": "9b6809a1",
   "metadata": {},
   "outputs": [
    {
     "name": "stdout",
     "output_type": "stream",
     "text": [
      "('second', 'first')\n"
     ]
    }
   ],
   "source": [
    "def swap(a,b):\n",
    "    a,b = b,a\n",
    "    return a,b\n",
    "print(swap('first','second'))"
   ]
  },
  {
   "cell_type": "code",
   "execution_count": null,
   "id": "6b864540",
   "metadata": {},
   "outputs": [],
   "source": []
  }
 ],
 "metadata": {
  "kernelspec": {
   "display_name": "Python 3 (ipykernel)",
   "language": "python",
   "name": "python3"
  },
  "language_info": {
   "codemirror_mode": {
    "name": "ipython",
    "version": 3
   },
   "file_extension": ".py",
   "mimetype": "text/x-python",
   "name": "python",
   "nbconvert_exporter": "python",
   "pygments_lexer": "ipython3",
   "version": "3.9.7"
  }
 },
 "nbformat": 4,
 "nbformat_minor": 5
}
